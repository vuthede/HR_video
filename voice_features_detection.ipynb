{
 "cells": [
  {
   "cell_type": "code",
   "execution_count": 2,
   "metadata": {},
   "outputs": [
    {
     "name": "stdout",
     "output_type": "stream",
     "text": [
      "[[0.00000000e+00 0.00000000e+00 0.00000000e+00 ... 0.00000000e+00\n",
      "  0.00000000e+00 0.00000000e+00]\n",
      " [1.07666016e+01 1.07666016e+01 1.07666016e+01 ... 1.07666016e+01\n",
      "  1.07666016e+01 1.07666016e+01]\n",
      " [2.15332031e+01 2.15332031e+01 2.15332031e+01 ... 2.15332031e+01\n",
      "  2.15332031e+01 2.15332031e+01]\n",
      " ...\n",
      " [1.10034668e+04 1.10034668e+04 1.10034668e+04 ... 1.10034668e+04\n",
      "  1.10034668e+04 1.10034668e+04]\n",
      " [1.10142334e+04 1.10142334e+04 1.10142334e+04 ... 1.10142334e+04\n",
      "  1.10142334e+04 1.10142334e+04]\n",
      " [1.10250000e+04 1.10250000e+04 1.10250000e+04 ... 1.10250000e+04\n",
      "  1.10250000e+04 1.10250000e+04]]\n",
      "[[ 0.00000000e+00+0.0000000e+00j -1.87347232e-05+0.0000000e+00j\n",
      "   4.20603828e-05+0.0000000e+00j ...  0.00000000e+00+0.0000000e+00j\n",
      "   0.00000000e+00+0.0000000e+00j  0.00000000e+00+0.0000000e+00j]\n",
      " [ 0.00000000e+00+0.0000000e+00j -1.36947765e-05-1.2527207e-05j\n",
      "  -4.06944746e-05+1.6618366e-04j ...  0.00000000e+00+0.0000000e+00j\n",
      "   0.00000000e+00+0.0000000e+00j  0.00000000e+00+0.0000000e+00j]\n",
      " [ 0.00000000e+00-0.0000000e+00j -1.82435622e-06-1.7936305e-05j\n",
      "  -4.35794995e-04+2.8638529e-05j ...  0.00000000e+00-0.0000000e+00j\n",
      "   0.00000000e+00-0.0000000e+00j  0.00000000e+00-0.0000000e+00j]\n",
      " ...\n",
      " [ 0.00000000e+00+0.0000000e+00j -6.33247232e-10+5.4413398e-09j\n",
      "   4.12808880e-08+2.5362363e-07j ...  0.00000000e+00+0.0000000e+00j\n",
      "   0.00000000e+00+0.0000000e+00j  0.00000000e+00+0.0000000e+00j]\n",
      " [ 0.00000000e+00+0.0000000e+00j -1.94000882e-09+1.5564972e-09j\n",
      "  -1.77463093e-07+2.3933023e-07j ...  0.00000000e+00+0.0000000e+00j\n",
      "   0.00000000e+00+0.0000000e+00j  0.00000000e+00+0.0000000e+00j]\n",
      " [ 0.00000000e+00+0.0000000e+00j -1.37057465e-09+0.0000000e+00j\n",
      "  -3.13121490e-07+0.0000000e+00j ...  0.00000000e+00+0.0000000e+00j\n",
      "   0.00000000e+00+0.0000000e+00j  0.00000000e+00+0.0000000e+00j]]\n"
     ]
    },
    {
     "name": "stderr",
     "output_type": "stream",
     "text": [
      "C:\\Users\\THEDE\\Miniconda3\\envs\\py36\\lib\\site-packages\\librosa\\core\\spectrum.py:467: RuntimeWarning: invalid value encountered in true_divide\n",
      "  bin_offset = (-phase * diff_stft).imag / mag\n"
     ]
    }
   ],
   "source": [
    "import librosa \n",
    "y1, sr1 = librosa.load(\"a.wav\")\n",
    "y2, sr2 = librosa.load(\"video.wav\")\n",
    "\n",
    "frequencies, D = librosa.ifgram(y1, sr=sr1, n_fft = 2048)\n",
    "print(frequencies)\n",
    "print(D)"
   ]
  },
  {
   "cell_type": "code",
   "execution_count": 12,
   "metadata": {},
   "outputs": [
    {
     "name": "stderr",
     "output_type": "stream",
     "text": [
      "No handles with labels found to put in legend.\n"
     ]
    },
    {
     "name": "stdout",
     "output_type": "stream",
     "text": [
      "<thinkdsp.Spectrum object at 0x000002B391E60470>\n"
     ]
    },
    {
     "data": {
      "image/png": "[encoded data removed]",
      "text/plain": [
       "<Figure size 432x288 with 1 Axes>"
      ]
     },
     "metadata": {},
     "output_type": "display_data"
    }
   ],
   "source": [
    "from __future__ import print_function, division\n",
    "\n",
    "%matplotlib inline\n",
    "\n",
    "import thinkdsp\n",
    "import thinkplot\n",
    "\n",
    "import numpy as np\n",
    "\n",
    "#import warnings\n",
    "#warnings.filterwarnings('ignore')\n",
    "\n",
    "from ipywidgets import interact, interactive, fixed\n",
    "import ipywidgets as widgets\n",
    "from IPython.display import display\n",
    "\n",
    "wave = thinkdsp.read_wave('ses01.wav')\n",
    "wave.normalize()\n",
    "spectrum = wave.make_spectrum()\n",
    "print(spectrum)\n",
    "spectrum.plot(high=1000)\n",
    "thinkplot.config(xlabel='Frequency (Hz)')"
   ]
  },
  {
   "cell_type": "code",
   "execution_count": 15,
   "metadata": {},
   "outputs": [
    {
     "ename": "ImportError",
     "evalue": "No module named 'audiosegment'",
     "output_type": "error",
     "traceback": [
      "\u001b[1;31m---------------------------------------------------------------------------\u001b[0m",
      "\u001b[1;31mImportError\u001b[0m                               Traceback (most recent call last)",
      "\u001b[1;32m<ipython-input-15-31ca971d0a39>\u001b[0m in \u001b[0;36m<module>\u001b[1;34m()\u001b[0m\n\u001b[0;32m      1\u001b[0m \u001b[1;32mfrom\u001b[0m \u001b[0mpydub\u001b[0m \u001b[1;32mimport\u001b[0m \u001b[0mAudioSegment\u001b[0m\u001b[1;33m\u001b[0m\u001b[0m\n\u001b[1;32m----> 2\u001b[1;33m \u001b[1;32mimport\u001b[0m \u001b[0maudiosegment\u001b[0m\u001b[1;33m\u001b[0m\u001b[0m\n\u001b[0m\u001b[0;32m      3\u001b[0m \u001b[0msound\u001b[0m \u001b[1;33m=\u001b[0m \u001b[0mAudioSegment\u001b[0m\u001b[1;33m.\u001b[0m\u001b[0mfrom_file\u001b[0m\u001b[1;33m(\u001b[0m\u001b[1;34m\"ses01.wav\"\u001b[0m\u001b[1;33m)\u001b[0m\u001b[1;33m\u001b[0m\u001b[0m\n\u001b[0;32m      4\u001b[0m \u001b[0mb\u001b[0m\u001b[1;33m,\u001b[0m \u001b[0mv\u001b[0m \u001b[1;33m=\u001b[0m \u001b[0msound\u001b[0m\u001b[1;33m.\u001b[0m\u001b[0mfft\u001b[0m\u001b[1;33m(\u001b[0m\u001b[1;33m)\u001b[0m\u001b[1;33m\u001b[0m\u001b[0m\n",
      "\u001b[1;31mImportError\u001b[0m: No module named 'audiosegment'"
     ]
    }
   ],
   "source": [
    "from pydub import AudioSegment\n",
    "import audiosegment\n",
    "sound = AudioSegment.from_file(\"ses01.wav\")\n",
    "b, v = sound.fft()\n"
   ]
  },
  {
   "cell_type": "code",
   "execution_count": null,
   "metadata": {},
   "outputs": [],
   "source": []
  }
 ],
 "metadata": {
  "kernelspec": {
   "display_name": "Python 3",
   "language": "python",
   "name": "python3"
  },
  "language_info": {
   "codemirror_mode": {
    "name": "ipython",
    "version": 3
   },
   "file_extension": ".py",
   "mimetype": "text/x-python",
   "name": "python",
   "nbconvert_exporter": "python",
   "pygments_lexer": "ipython3",
   "version": "3.5.5"
  }
 },
 "nbformat": 4,
 "nbformat_minor": 2
}
